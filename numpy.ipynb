{
  "cells": [
    {
      "cell_type": "markdown",
      "metadata": {
        "id": "vC84e9kzyxPy"
      },
      "source": [
        "<h1>Импорт библиотек"
      ]
    },
    {
      "cell_type": "code",
      "execution_count": 3,
      "metadata": {
        "id": "cgKeNegmQG5S"
      },
      "outputs": [],
      "source": [
        "import numpy as np\n",
        "import matplotlib.pyplot as plt"
      ]
    },
    {
      "cell_type": "markdown",
      "metadata": {
        "id": "qFM9uVU2x4Ls"
      },
      "source": [
        "<h1>Задача 1. Дан набор из $p$ матриц размерностью $(n, n)$ и $p$ векторов размерностью $(n, 1)$, найти сумму произведений матриц на векторы. Написать тесты для кода"
      ]
    },
    {
      "cell_type": "code",
      "execution_count": null,
      "metadata": {
        "id": "IAbUvEiYyWFF"
      },
      "outputs": [],
      "source": [
        "def sum_prod(X, V):\n",
        "    result = sum(np.dot(matrix, vector) for matrix, vector in zip(X, V))\n",
        "    return result\n",
        "\n",
        "\n",
        "X = [np.array([[1, 2], [3, 4]]), np.array([[5, 6], [7, 8]])]\n",
        "V = [np.array([[1], [2]]), np.array([[3], [4]])]\n",
        "\n",
        "# тест\n",
        "def test_np():\n",
        "    assert np.all(sum_prod(X, V) == np.array([[44], [64]]))\n",
        "\n",
        "# запуск теста\n",
        "test_np()\n",
        "print('Все тесты пройдены')"
      ]
    },
    {
      "cell_type": "markdown",
      "metadata": {
        "id": "TKwPG4fIy2w4"
      },
      "source": [
        "<h1>Задача 2. Дана матрица M, напишите функцию, которая бинаризует матрицу по некоторому threshold (то есть, все значения большие threshold становятся равными 1, иначе 0). Напишите тесты для кода"
      ]
    },
    {
      "cell_type": "code",
      "execution_count": null,
      "metadata": {
        "id": "KQDNMgsjRNH7"
      },
      "outputs": [],
      "source": [
        "def binarize(M, threshold=0.5):\n",
        "    return np.where(M > threshold, 1, 0)\n",
        "\n",
        "# тесты\n",
        "def test_binarize():\n",
        "    M = np.array([[0.3, 0.4], [0.6, 0.7]])\n",
        "    assert np.all(np.array([[0, 0], [1, 1]]) == binarize(M, 0.5))\n",
        "\n",
        "    M = np.array([[1, 2], [3, 4]])\n",
        "    assert np.all(np.array([[1, 1], [1, 1]]) == binarize(M, 0.5))\n",
        "\n",
        "    M = np.array([[1, 0.1], [0, 2.5]])\n",
        "    assert np.all(np.array([[1, 0], [0, 1]]) == binarize(M, 0.5))\n",
        "\n",
        "# запуск тестов\n",
        "test_binarize()\n",
        "print('Все тесты пройдены')"
      ]
    },
    {
      "cell_type": "markdown",
      "metadata": {
        "id": "IY5L-h-7zWhN"
      },
      "source": [
        "<h1>Задача 3. Напишите функцию, которая возвращает уникальные элементы из каждой строки матрицы. Напишите такую же функцию, но для столбцов. Напишите тесты для кода"
      ]
    },
    {
      "cell_type": "code",
      "execution_count": null,
      "metadata": {
        "id": "-8dEZhR0SBC-"
      },
      "outputs": [],
      "source": [
        "def unique_elements_rows(matrix):\n",
        "    return [list(set(row)) for row in matrix]\n",
        "\n",
        "def unique_elements_columns(matrix):\n",
        "    return unique_elements_rows(zip(*matrix))\n",
        "\n",
        "# тесты\n",
        "def test_unique_elements():\n",
        "    matrix = [\n",
        "        [1, 2, 2, 3],\n",
        "        [4, 5, 1, 1],\n",
        "        [6, 7, 5, 3]\n",
        "    ]\n",
        "    \n",
        "    expected_rows = [[1, 2, 3], [1, 4, 5], [3, 5, 6, 7]]\n",
        "    expected_columns = [[1, 4, 6], [2, 5, 7], [1, 2, 5], [1, 3]] \n",
        "\n",
        "    assert unique_elements_rows(matrix) == expected_rows, 'Ошибка в функции unique_elements_rows'\n",
        "    assert unique_elements_columns(matrix) == expected_columns, 'Ошибка в функции unique_elements_columns'\n",
        "\n",
        "# запуск тестов\n",
        "if __name__ == '__main__':\n",
        "    test_unique_elements()\n",
        "    print('Все тесты пройдены')"
      ]
    },
    {
      "cell_type": "markdown",
      "metadata": {
        "id": "roYAlo4Jz-lH"
      },
      "source": [
        "<h1>Задача 4. Напишите функцию, которая заполняет матрицу с размерами $(m, n)$ случайными числами, распределенными по нормальному закону. Затем считает мат. ожидание и дисперсию для каждого из столбцов и строк, а также строит для каждой строки и столбца гистограмму значений (использовать функцию hist из модуля matplotlib.plot)"
      ]
    },
    {
      "cell_type": "code",
      "execution_count": null,
      "metadata": {
        "id": "nZK_71hMSQzv"
      },
      "outputs": [],
      "source": [
        "# Your code goes here"
      ]
    },
    {
      "cell_type": "markdown",
      "metadata": {
        "id": "BDyATNdM0dJ2"
      },
      "source": [
        "<h1>Задача 5. Напишите функцию, которая заполняет матрицу $(m, n)$ в шахматном порядке заданными числами $a$ и $b$. Напишите тесты для кода"
      ]
    },
    {
      "cell_type": "code",
      "execution_count": null,
      "metadata": {
        "id": "RWNJYWQGecS6"
      },
      "outputs": [],
      "source": [
        "def chess(m, n, a, b):\n",
        "    matrix = np.zeros((m, n), dtype=int)\n",
        "    for i in range(m):\n",
        "        for j in range(n):\n",
        "            if (i + j) % 2 == 0:\n",
        "                matrix[i, j] = a\n",
        "            else:\n",
        "                matrix[i, j] = b\n",
        "    \n",
        "    return matrix\n",
        "\n",
        "# тесты\n",
        "def test_chess():\n",
        "    result1 = chess(2, 2, 1, 0)\n",
        "    expected1 = np.array([[1, 0], [0, 1]])  \n",
        "    assert np.array_equal(result1, expected1), 'Ошибка'\n",
        "\n",
        "    result2 = chess(3, 3, 1, 0)\n",
        "    expected2 = np.array([[1, 0, 1], [0, 1, 0], [1, 0, 1]])  \n",
        "    assert np.array_equal(result2, expected2), 'Ошибка'\n",
        "    \n",
        "# запуск тестов\n",
        "test_chess()\n",
        "print('Все тесты пройдены')"
      ]
    },
    {
      "cell_type": "markdown",
      "metadata": {
        "id": "-ymXLtTN0vB6"
      },
      "source": [
        "<h1>Задача 6. Напишите функцию, которая отрисовывает прямоугольник с заданными размерами (a, b) на изображении размера (m, n), цвет фона задайте в схеме RGB, как и цвет прямоугольника. Цвета также должны быть параметрами функции. Напишите аналогичную функцию но для овала с полуосями a и b. Напишите тесты для кода.\n",
        "Примечание: уравнение эллипса (границы овала) можно записать как:\n",
        "<h1>$\\frac{(x-x_0)^2}{a^2}+\\frac{(y-y_0)^2}{b^2}=1$"
      ]
    },
    {
      "cell_type": "code",
      "execution_count": 1,
      "metadata": {
        "id": "sNfl1t_kfOF4"
      },
      "outputs": [],
      "source": [
        "from PIL import Image, ImageDraw\n",
        "\n",
        "def draw_rectangle(a, b, m, n, rectangle_color=(0, 0, 0), background_color=(255, 255, 255)):\n",
        "    image = Image.new(\"RGB\", (n, m), background_color)\n",
        "    draw = ImageDraw.Draw(image)\n",
        "    draw.rectangle([a, b, 0, 0], fill=rectangle_color)\n",
        "    return image\n",
        "\n",
        "def draw_ellipse(a, b, m, n, ellipse_color=(0, 0, 0), background_color=(255, 255, 255)):\n",
        "    image = Image.new(\"RGB\", (n, m), background_color)\n",
        "    draw = ImageDraw.Draw(image)\n",
        "    draw.ellipse([a * 2, b * 2, 0, 0], fill=ellipse_color) \n",
        "    return image\n",
        "\n",
        "# тесты\n",
        "def test_draw_shapes():\n",
        "    # тест для прямоугольника\n",
        "    rectangle_image = draw_rectangle(100, 200, 100, 50, background_color=(255, 255, 255), rectangle_color=(255, 0, 0))\n",
        "    rectangle_image.save(\"rectangle_test.png\") \n",
        "\n",
        "    # тест для овала\n",
        "    ellipse_image = draw_ellipse(100, 200, 50, 30, background_color=(255, 255, 255), ellipse_color=(0, 255, 0))\n",
        "    ellipse_image.save(\"ellipse_test.png\")  \n",
        "\n",
        "# запуск тестов\n",
        "test_draw_shapes()\n",
        "print('Все тесты пройдены')"
      ]
    },
    {
      "cell_type": "markdown",
      "metadata": {
        "id": "S82c38oz244H"
      },
      "source": [
        "<h1>Задача 7. Дан некий временной ряд. Для данного ряда нужно найти его: математическое ожидание, дисперсию, СКО, найти все локальные максимумы и минимумы (локальный максимум - это точка, которая больше своих соседних точек, а локальный минимум - это точка, которая меньше своих соседей), а также вычислить для данного ряда другой ряд, получаемый методом скользящего среднего с размером окна $p$.\n",
        "<h1>Примечание: метод скользящего среднего подразумевает нахождение среднего из подмножетсва ряда размером $p$"
      ]
    },
    {
      "cell_type": "code",
      "execution_count": null,
      "metadata": {
        "id": "Zb9mIVge5MMt"
      },
      "outputs": [],
      "source": [
        "def analyze_series(series, window_size):\n",
        "    mean = np.mean(series)\n",
        "    var = np.var(series)\n",
        "    std = np.std(series)\n",
        "    \n",
        "    local_max = (np.diff(np.sign(np.diff(series))) < 0).nonzero()[0] + 1\n",
        "    local_min = (np.diff(np.sign(np.diff(series))) > 0).nonzero()[0] + 1\n",
        "    \n",
        "    moving_avg = np.convolve(series, np.ones(window_size) / window_size, mode='valid')  \n",
        "    return mean, var, std, local_max, local_min, moving_avg"
      ]
    },
    {
      "cell_type": "markdown",
      "metadata": {
        "id": "jPkylmOX5O9n"
      },
      "source": [
        "<h1> Задача 8. Дан некоторый вектор с целочисленными метками классов, напишите функцию, которая выполняет one-hot-encoding для данного вектора\n",
        "<h1> One-hot-encoding - представление, в котором на месте метки некоторого класса стоит 1, в остальных позициях стоит 0. Например для вектора [0, 2, 3, 0] one-hot-encoding выглядит как: [[1, 0, 0, 0], [0, 0, 1, 0], [0, 0, 0, 1], [1, 0, 0, 0]]"
      ]
    },
    {
      "cell_type": "code",
      "execution_count": null,
      "metadata": {
        "id": "Y-jlnZvw56lD"
      },
      "outputs": [],
      "source": [
        "def one_hot_encode(labels):\n",
        "    num_classes = np.max(labels) + 1\n",
        "    one_hot = np.zeros((len(labels), num_classes), dtype=int)\n",
        "    one_hot[np.arange(len(labels)), labels] = 1\n",
        "    return one_hot\n",
        "\n",
        "#тест\n",
        "def test_one_hot_encode():\n",
        "    labels = np.array([0, 2, 3, 0])\n",
        "    result = one_hot_encode(labels)\n",
        "    expected = np.array([[1, 0, 0, 0], [0, 0, 1, 0], [0, 0, 0, 1], [1, 0, 0, 0]])\n",
        "    assert np.all(result == expected), 'Ошибка'\n",
        "\n",
        "#запуск теста\n",
        "test_one_hot_encode()\n",
        "print('Все тесты пройдены')"
      ]
    }
  ],
  "metadata": {
    "colab": {
      "provenance": []
    },
    "kernelspec": {
      "display_name": "Python 3",
      "name": "python3"
    },
    "language_info": {
      "name": "python"
    }
  },
  "nbformat": 4,
  "nbformat_minor": 0
}
